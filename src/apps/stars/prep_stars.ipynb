{
 "cells": [
  {
   "cell_type": "markdown",
   "source": [
    "Stars app\n",
    "=\n",
    "\n",
    "An example app for ingesting spatial data into a format readable by the Unreal Engine application at git@github.com:hamshifim/unreal-data-visualization.git. Both this repository and the repository holding the Unreal are submodules of this super repo: git@github.com:hamshifim/data-wielder.git and it holds the compatible versions of both repositories. Make sure you checkout the commit pointed to by data-wielder submodules for version alignment.\n",
    "\n",
    "If it's your first time run the notebook cell by cell to while looking at the output directories; I would recommend using Sublime Text to view the directories intended for generated files.\n",
    "\n",
    "For we are using CSV to import larger datasets to Unreal and are not aware of usage of a format including schema (e.g. parquet) supported by unreal. The last cell in this notebook generates the structs for the Unreal Engine application. After you are done you should build the code and import the tables, in Unreal and run the application using the instructions in the Unreal submodule."
   ],
   "metadata": {
    "collapsed": false
   }
  },
  {
   "cell_type": "code",
   "execution_count": 1,
   "outputs": [],
   "source": [
    "from pyspark.sql import SparkSession\n",
    "from pyspark.sql import functions as F\n",
    "from pyhocon import ConfigFactory as CF\n",
    "from pyhocon import HOCONConverter\n",
    "\n",
    "from pep_data.project import data_project_conf\n",
    "from wielder.spark.util import set_spark_env\n",
    "from wielder.unreal.util import to_unreal, UnrealTableType\n",
    "from wielder.wield.project import default_conf_root, configure_project_module\n",
    "from wielder.spark.util import columns_ranges\n",
    "from wielder.spark.spatial import estimate_df_boundaries\n",
    "from wielder.spark.util import color_by_range\n",
    "from wielder.unreal.struct_gen import *"
   ],
   "metadata": {
    "collapsed": false,
    "ExecuteTime": {
     "end_time": "2023-09-27T16:44:40.544825Z",
     "start_time": "2023-09-27T16:44:39.977385Z"
    }
   }
  },
  {
   "cell_type": "code",
   "execution_count": 2,
   "outputs": [
    {
     "name": "stderr",
     "output_type": "stream",
     "text": [
      "WARNING:root:bootstrap_env: docker is not consistent with local system: unix\n",
      "WARNING:root:Couldn't find file\n",
      "/Users/gideonbar/dev/data-wielder/wdata/conf/bootstrap_env/docker/wield.conf\n",
      "WARNING:pyhocon.config_parser:Cannot include file /Users/gideonbar/dev/data-wielder/wdata/conf/deploy_env/dev/micros.conf. File does not exist or cannot be read.\n",
      "ERROR:root:'super' object has no attribute '__getattr__'\n"
     ]
    }
   ],
   "source": [
    "project_conf_dir = default_conf_root()\n",
    "app = 'stars'\n",
    "conf = data_project_conf(app=app)\n",
    "configure_project_module(conf, app)\n",
    "\n",
    "app_conf = conf[app]"
   ],
   "metadata": {
    "collapsed": false,
    "ExecuteTime": {
     "end_time": "2023-09-27T16:44:40.833939Z",
     "start_time": "2023-09-27T16:44:40.546505Z"
    }
   }
  },
  {
   "cell_type": "code",
   "execution_count": 3,
   "outputs": [],
   "source": [
    "unreal_conf = app_conf.unreal_conf\n",
    "dest = unreal_conf.conf"
   ],
   "metadata": {
    "collapsed": false,
    "ExecuteTime": {
     "end_time": "2023-09-27T16:44:40.834147Z",
     "start_time": "2023-09-27T16:44:40.830620Z"
    }
   }
  },
  {
   "cell_type": "code",
   "execution_count": 4,
   "outputs": [
    {
     "name": "stderr",
     "output_type": "stream",
     "text": [
      "Setting default log level to \"WARN\".\n",
      "To adjust logging level use sc.setLogLevel(newLevel). For SparkR, use setLogLevel(newLevel).\n"
     ]
    },
    {
     "name": "stdout",
     "output_type": "stream",
     "text": [
      "23/09/27 19:44:43 WARN NativeCodeLoader: Unable to load native-hadoop library for your platform... using builtin-java classes where applicable\n"
     ]
    }
   ],
   "source": [
    "set_spark_env()\n",
    "spark = SparkSession.builder.config(\"spark.driver.memory\", \"15g\").appName(app).getOrCreate()"
   ],
   "metadata": {
    "collapsed": false,
    "ExecuteTime": {
     "end_time": "2023-09-27T16:44:45.597131Z",
     "start_time": "2023-09-27T16:44:40.833713Z"
    }
   }
  },
  {
   "cell_type": "code",
   "execution_count": 5,
   "outputs": [
    {
     "name": "stderr",
     "output_type": "stream",
     "text": [
      "                                                                                \r"
     ]
    }
   ],
   "source": [
    "src = app_conf.src.stars_raw\n",
    "dff = spark.read.csv(src, header=True)"
   ],
   "metadata": {
    "collapsed": false,
    "ExecuteTime": {
     "end_time": "2023-09-27T16:44:52.684564Z",
     "start_time": "2023-09-27T16:44:45.599117Z"
    }
   }
  },
  {
   "cell_type": "code",
   "execution_count": 6,
   "outputs": [
    {
     "name": "stdout",
     "output_type": "stream",
     "text": [
      "+-----+---------+-------+----------+\n",
      "|Index|        X|      Y|         Z|\n",
      "+-----+---------+-------+----------+\n",
      "|    1|      0.0|    0.0|       0.0|\n",
      "|    2| 2197.405|0.03449|  41.77065|\n",
      "|    3| 452.1092|0.03365|-160.08997|\n",
      "|    4|3445.5278|0.30213| 2776.1497|\n",
      "|    5| 828.3551|0.12476|-1056.1954|\n",
      "+-----+---------+-------+----------+\n"
     ]
    }
   ],
   "source": [
    "dff.show(5)"
   ],
   "metadata": {
    "collapsed": false,
    "ExecuteTime": {
     "end_time": "2023-09-27T16:44:53.036779Z",
     "start_time": "2023-09-27T16:44:52.684927Z"
    }
   }
  },
  {
   "cell_type": "code",
   "execution_count": 7,
   "outputs": [],
   "source": [
    "def random_rgb():\n",
    "    import random\n",
    "    r = lambda: random.randint(0, 255)\n",
    "    return '#%02X%02X%02X' % (r(), r(), r())\n",
    "\n",
    "random_rgb_udf = F.udf(random_rgb)"
   ],
   "metadata": {
    "collapsed": false,
    "ExecuteTime": {
     "end_time": "2023-09-27T16:44:53.042445Z",
     "start_time": "2023-09-27T16:44:53.038343Z"
    }
   }
  },
  {
   "cell_type": "code",
   "execution_count": 8,
   "outputs": [],
   "source": [
    "def random_normalized_num():\n",
    "    import random\n",
    "    return random.uniform(0.01, 0.1)\n",
    "\n",
    "random_normalized_num_udf = F.udf(random_normalized_num)"
   ],
   "metadata": {
    "collapsed": false,
    "ExecuteTime": {
     "end_time": "2023-09-27T16:44:53.042620Z",
     "start_time": "2023-09-27T16:44:53.040960Z"
    }
   }
  },
  {
   "cell_type": "code",
   "execution_count": 9,
   "outputs": [],
   "source": [
    "# cols = ['Index'] + app_conf.unreal_conf.base_columns\n",
    "df = dff \\\n",
    "    .withColumn(\"x\", F.col(\"x\").cast(\"float\")) \\\n",
    "    .withColumn(\"y\", F.col(\"y\").cast(\"float\")) \\\n",
    "    .withColumn(\"z\", F.col(\"z\").cast(\"float\")) \\\n",
    "    .withColumn(\"type\", F.lit('stars')) \\\n",
    "    .withColumn(\"color\", random_rgb_udf()) \\\n",
    "    .withColumn(\"size\", random_normalized_num_udf()) \\\n",
    "    .withColumn(\"opacity\", random_normalized_num_udf())"
   ],
   "metadata": {
    "collapsed": false,
    "ExecuteTime": {
     "end_time": "2023-09-27T16:44:53.233668Z",
     "start_time": "2023-09-27T16:44:53.044151Z"
    }
   }
  },
  {
   "cell_type": "code",
   "execution_count": 10,
   "outputs": [
    {
     "name": "stderr",
     "output_type": "stream",
     "text": [
      "[Stage 2:>                                                          (0 + 1) / 1]\r"
     ]
    },
    {
     "name": "stdout",
     "output_type": "stream",
     "text": [
      "+-----+---------+-------+----------+-----+-------+--------------------+--------------------+\n",
      "|Index|        x|      y|         z| type|  color|                size|             opacity|\n",
      "+-----+---------+-------+----------+-----+-------+--------------------+--------------------+\n",
      "|    1|      0.0|    0.0|       0.0|stars|#821B72| 0.05186836976399395| 0.05186836976399395|\n",
      "|    2| 2197.405|0.03449|  41.77065|stars|#1606E0| 0.06290146663828139| 0.06290146663828139|\n",
      "|    3| 452.1092|0.03365|-160.08997|stars|#93C1B1| 0.05397169799968706| 0.05397169799968706|\n",
      "|    4|3445.5278|0.30213| 2776.1497|stars|#4DCE09|0.030492069826705062|0.030492069826705062|\n",
      "|    5| 828.3551|0.12476|-1056.1954|stars|#D22230|0.046524362496243796|0.046524362496243796|\n",
      "+-----+---------+-------+----------+-----+-------+--------------------+--------------------+\n"
     ]
    },
    {
     "name": "stderr",
     "output_type": "stream",
     "text": [
      "                                                                                \r"
     ]
    }
   ],
   "source": [
    "df.show(5)"
   ],
   "metadata": {
    "collapsed": false,
    "ExecuteTime": {
     "end_time": "2023-09-27T16:44:55.039031Z",
     "start_time": "2023-09-27T16:44:53.235057Z"
    }
   }
  },
  {
   "cell_type": "code",
   "execution_count": 11,
   "outputs": [],
   "source": [
    "# df.printSchema()"
   ],
   "metadata": {
    "collapsed": false,
    "ExecuteTime": {
     "end_time": "2023-09-27T16:44:55.044626Z",
     "start_time": "2023-09-27T16:44:55.039317Z"
    }
   }
  },
  {
   "cell_type": "code",
   "execution_count": 12,
   "outputs": [],
   "source": [
    "main_table = 'stars'\n",
    "table = 'metadata'"
   ],
   "metadata": {
    "collapsed": false,
    "ExecuteTime": {
     "end_time": "2023-09-27T16:44:55.044826Z",
     "start_time": "2023-09-27T16:44:55.042343Z"
    }
   }
  },
  {
   "cell_type": "code",
   "execution_count": 13,
   "outputs": [
    {
     "data": {
      "text/plain": "'/Users/gideonbar/dev/data-wielder/unreal-data-visualization/Content/Data/stars.csv'"
     },
     "execution_count": 13,
     "metadata": {},
     "output_type": "execute_result"
    }
   ],
   "source": [
    "unreal_conf.data_types[main_table].data_source"
   ],
   "metadata": {
    "collapsed": false,
    "ExecuteTime": {
     "end_time": "2023-09-27T16:44:55.050992Z",
     "start_time": "2023-09-27T16:44:55.047483Z"
    }
   }
  },
  {
   "cell_type": "code",
   "execution_count": 14,
   "outputs": [
    {
     "name": "stderr",
     "output_type": "stream",
     "text": [
      "                                                                                \r"
     ]
    }
   ],
   "source": [
    "dest = unreal_conf.data_types[main_table].data_source\n",
    "to_unreal(df=df, dest=dest)"
   ],
   "metadata": {
    "collapsed": false,
    "ExecuteTime": {
     "end_time": "2023-09-27T16:44:56.788692Z",
     "start_time": "2023-09-27T16:44:55.053481Z"
    }
   }
  },
  {
   "cell_type": "code",
   "execution_count": 15,
   "outputs": [
    {
     "name": "stdout",
     "output_type": "stream",
     "text": [
      "+-------------+---------+--------+----------------+---------+--------+------------+---------+--------+\n",
      "|     center_x|    min_x|   max_x|        center_y|    min_y|   max_y|    center_z|    min_z|   max_z|\n",
      "+-------------+---------+--------+----------------+---------+--------+------------+---------+--------+\n",
      "|4.20556640625|-9370.511|9378.922|-195.77685546875|-9562.371|9170.817|44.626953125|-9613.174|9702.428|\n",
      "+-------------+---------+--------+----------------+---------+--------+------------+---------+--------+\n",
      "\n",
      "root\n",
      " |-- center_x: double (nullable = true)\n",
      " |-- min_x: float (nullable = true)\n",
      " |-- max_x: float (nullable = true)\n",
      " |-- center_y: double (nullable = true)\n",
      " |-- min_y: float (nullable = true)\n",
      " |-- max_y: float (nullable = true)\n",
      " |-- center_z: double (nullable = true)\n",
      " |-- min_z: float (nullable = true)\n",
      " |-- max_z: float (nullable = true)\n"
     ]
    },
    {
     "data": {
      "text/plain": "{'center_x': 4.20556640625,\n 'min_x': -9370.5107421875,\n 'max_x': 9378.921875,\n 'center_y': -195.77685546875,\n 'min_y': -9562.37109375,\n 'max_y': 9170.8173828125,\n 'center_z': 44.626953125,\n 'min_z': -9613.173828125,\n 'max_z': 9702.427734375,\n 'radius': 4851.2138671875}"
     },
     "execution_count": 15,
     "metadata": {},
     "output_type": "execute_result"
    }
   ],
   "source": [
    "boundaries = estimate_df_boundaries(df)\n",
    "boundaries"
   ],
   "metadata": {
    "collapsed": false,
    "ExecuteTime": {
     "end_time": "2023-09-27T16:44:58.711501Z",
     "start_time": "2023-09-27T16:44:56.789126Z"
    }
   }
  },
  {
   "cell_type": "code",
   "execution_count": 16,
   "outputs": [],
   "source": [
    "unreal_conf.views.galaxy['boundaries'] = CF.from_dict(boundaries)\n"
   ],
   "metadata": {
    "collapsed": false,
    "ExecuteTime": {
     "end_time": "2023-09-27T16:44:58.711785Z",
     "start_time": "2023-09-27T16:44:58.708026Z"
    }
   }
  },
  {
   "cell_type": "code",
   "execution_count": 17,
   "outputs": [],
   "source": [
    "src = app_conf.src.stars_parameters\n",
    "_col = \"p_life\"\n",
    "params_df = spark.read.csv(src, header=True) \\\n",
    "    .withColumn('likelihood_of_life', F.col('likelihood_of_life').cast('float')) \\\n",
    "    .withColumn(_col, F.floor(F.col(\"likelihood_of_life\")))"
   ],
   "metadata": {
    "collapsed": false,
    "ExecuteTime": {
     "end_time": "2023-09-27T16:44:59.199325Z",
     "start_time": "2023-09-27T16:44:58.711707Z"
    }
   }
  },
  {
   "cell_type": "code",
   "execution_count": 18,
   "outputs": [
    {
     "name": "stdout",
     "output_type": "stream",
     "text": [
      "+-----+---------+-----------+------------------+-------+-------------------+------------------+----------------+-------------+------+\n",
      "|Index|star_name|galaxy_name|              size|  color|distance_from_earth|likelihood_of_life|num_surr_planets| type_of_star|p_life|\n",
      "+-----+---------+-----------+------------------+-------+-------------------+------------------+----------------+-------------+------+\n",
      "|    1|Komu kepo|  Cize loha|11.283134082358988|#83E792| 2387254243.6619678|          97.03046|               0|Main Sequence|    97|\n",
      "|    2|Vuru goza|  Zuju vuhi|15.108297217469856|#2AC3C3|  3655900967.643971|          58.12317|              13|   Supergiant|    58|\n",
      "|    3|Kina cowu|  Yazo keku| 3.823228120146334|#C6DDC3|  5519678016.621352|         46.228245|              16|  White Dwarf|    46|\n",
      "|    4|Moxe copu|  Xixa xuyu|14.392850921395977|#0BF991|  1517002825.597455|          85.06668|               8|  White Dwarf|    85|\n",
      "|    5|Fape zibu|  Kiqe xofu| 8.962635550725826|#834F39|  8754685882.737814|         35.562817|               5|   Supergiant|    35|\n",
      "+-----+---------+-----------+------------------+-------+-------------------+------------------+----------------+-------------+------+\n"
     ]
    }
   ],
   "source": [
    "params_df.show(5)"
   ],
   "metadata": {
    "collapsed": false,
    "ExecuteTime": {
     "end_time": "2023-09-27T16:44:59.613756Z",
     "start_time": "2023-09-27T16:44:59.199616Z"
    }
   }
  },
  {
   "cell_type": "code",
   "execution_count": 19,
   "outputs": [],
   "source": [
    "# params_df.printSchema()\n",
    "# params_df.columns"
   ],
   "metadata": {
    "collapsed": false,
    "ExecuteTime": {
     "end_time": "2023-09-27T16:44:59.613976Z",
     "start_time": "2023-09-27T16:44:59.609660Z"
    }
   }
  },
  {
   "cell_type": "code",
   "execution_count": 20,
   "outputs": [
    {
     "data": {
      "text/plain": "'/Users/gideonbar/dev/data-wielder/unreal-data-visualization/Content/Data/stars_metadata.csv'"
     },
     "execution_count": 20,
     "metadata": {},
     "output_type": "execute_result"
    }
   ],
   "source": [
    "dest1 = unreal_conf.data_types[main_table].tables[table]['data_source']\n",
    "dest1"
   ],
   "metadata": {
    "collapsed": false,
    "ExecuteTime": {
     "end_time": "2023-09-27T16:44:59.615811Z",
     "start_time": "2023-09-27T16:44:59.613203Z"
    }
   }
  },
  {
   "cell_type": "code",
   "execution_count": 21,
   "outputs": [],
   "source": [
    "unreal_conf = to_unreal(params_df, dest1, unreal_conf, main_table, table, table_type=UnrealTableType.SECONDARY)"
   ],
   "metadata": {
    "collapsed": false,
    "ExecuteTime": {
     "end_time": "2023-09-27T16:45:00.706308Z",
     "start_time": "2023-09-27T16:44:59.616902Z"
    }
   }
  },
  {
   "cell_type": "code",
   "execution_count": 22,
   "outputs": [],
   "source": [
    "# unreal_conf"
   ],
   "metadata": {
    "collapsed": false,
    "ExecuteTime": {
     "end_time": "2023-09-27T16:45:00.712634Z",
     "start_time": "2023-09-27T16:45:00.706586Z"
    }
   }
  },
  {
   "cell_type": "code",
   "execution_count": 23,
   "outputs": [
    {
     "data": {
      "text/plain": "{'0': '#00ff00',\n '1': '#00fc02',\n '2': '#00f905',\n '3': '#00f707',\n '4': '#00f40a',\n '5': '#00f20c',\n '6': '#00ef0f',\n '7': '#00ec12',\n '8': '#00ea14',\n '9': '#00e717',\n '10': '#00e519',\n '11': '#00e21c',\n '12': '#00e01e',\n '13': '#00dd21',\n '14': '#00da24',\n '15': '#00d826',\n '16': '#00d529',\n '17': '#00d32b',\n '18': '#00d02e',\n '19': '#00ce30',\n '20': '#00cb33',\n '21': '#00c836',\n '22': '#00c638',\n '23': '#00c33b',\n '24': '#00c13d',\n '25': '#00be40',\n '26': '#00bc42',\n '27': '#00b945',\n '28': '#00b648',\n '29': '#00b44a',\n '30': '#00b14d',\n '31': '#00af4f',\n '32': '#00ac52',\n '33': '#00aa55',\n '34': '#00a757',\n '35': '#00a45a',\n '36': '#00a25c',\n '37': '#009f5f',\n '38': '#009d61',\n '39': '#009a64',\n '40': '#009767',\n '41': '#009569',\n '42': '#00926c',\n '43': '#00906e',\n '44': '#008d71',\n '45': '#008b73',\n '46': '#008876',\n '47': '#008579',\n '48': '#00837b',\n '49': '#00807e',\n '50': '#007e80',\n '51': '#007b83',\n '52': '#007985',\n '53': '#007688',\n '54': '#00738b',\n '55': '#00718d',\n '56': '#006e90',\n '57': '#006c92',\n '58': '#006995',\n '59': '#006797',\n '60': '#00649a',\n '61': '#00619d',\n '62': '#005f9f',\n '63': '#005ca2',\n '64': '#005aa4',\n '65': '#0057a7',\n '66': '#0055aa',\n '67': '#0052ac',\n '68': '#004faf',\n '69': '#004db1',\n '70': '#004ab4',\n '71': '#0048b6',\n '72': '#0045b9',\n '73': '#0042bc',\n '74': '#0040be',\n '75': '#003dc1',\n '76': '#003bc3',\n '77': '#0038c6',\n '78': '#0036c8',\n '79': '#0033cb',\n '80': '#0030ce',\n '81': '#002ed0',\n '82': '#002bd3',\n '83': '#0029d5',\n '84': '#0026d8',\n '85': '#0024da',\n '86': '#0021dd',\n '87': '#001ee0',\n '88': '#001ce2',\n '89': '#0019e5',\n '90': '#0017e7',\n '91': '#0014ea',\n '92': '#0012ec',\n '93': '#000fef',\n '94': '#000cf2',\n '95': '#000af4',\n '96': '#0007f7',\n '97': '#0005f9',\n '98': '#0002fc',\n '99': '#0000ff'}"
     },
     "execution_count": 23,
     "metadata": {},
     "output_type": "execute_result"
    }
   ],
   "source": [
    "ranges = columns_ranges(params_df, [_col])\n",
    "_min = ranges[f'min_{_col}']\n",
    "_max = ranges[f'max_{_col}']\n",
    "\n",
    "color_codes = color_by_range(_min, _max, cold=True)\n",
    "\n",
    "unreal_conf.views.galaxy.color_maps[_col] = CF.from_dict(color_codes)\n",
    "color_codes"
   ],
   "metadata": {
    "collapsed": false,
    "ExecuteTime": {
     "end_time": "2023-09-27T16:45:01.205236Z",
     "start_time": "2023-09-27T16:45:00.709680Z"
    }
   }
  },
  {
   "cell_type": "code",
   "execution_count": 24,
   "outputs": [],
   "source": [
    "unreal_conf_j = HOCONConverter.to_json(unreal_conf, indent=4)\n",
    "dest_j = unreal_conf.conf\n",
    "\n",
    "with open(dest_j, 'w') as file:\n",
    "    file.write(unreal_conf_j)"
   ],
   "metadata": {
    "collapsed": false,
    "ExecuteTime": {
     "end_time": "2023-09-27T16:45:01.205479Z",
     "start_time": "2023-09-27T16:45:01.202892Z"
    }
   }
  },
  {
   "cell_type": "code",
   "execution_count": 25,
   "outputs": [
    {
     "name": "stdout",
     "output_type": "stream",
     "text": [
      "Ignored col:  Index\n",
      "Writing to:\n",
      "/Users/gideonbar/dev/data-wielder/unreal-data-visualization/Source/Pepticom4D/StarsMetadataTempStruct.h\n",
      "StarsMetadataTempStruct header and .cpp code written to:\n",
      "/Users/gideonbar/dev/data-wielder/unreal-data-visualization/Source/Pepticom4D\n"
     ]
    }
   ],
   "source": [
    "uconf = conf.unreal\n",
    "solution_name = uconf.solution_name\n",
    "\n",
    "if uconf.del_structs:\n",
    "    delete_old_structs(solution_name, uconf.project_path)\n",
    "\n",
    "# Define the path to your config file, written to location above\n",
    "conf_path = uconf.conf_path\n",
    "output_dir = uconf.struct_path\n",
    "\n",
    "generate_structs(conf_path, output_dir)"
   ],
   "metadata": {
    "collapsed": false,
    "ExecuteTime": {
     "end_time": "2023-09-27T16:45:01.210565Z",
     "start_time": "2023-09-27T16:45:01.206089Z"
    }
   }
  }
 ],
 "metadata": {
  "kernelspec": {
   "display_name": "Python 3",
   "language": "python",
   "name": "python3"
  },
  "language_info": {
   "codemirror_mode": {
    "name": "ipython",
    "version": 2
   },
   "file_extension": ".py",
   "mimetype": "text/x-python",
   "name": "python",
   "nbconvert_exporter": "python",
   "pygments_lexer": "ipython2",
   "version": "2.7.6"
  }
 },
 "nbformat": 4,
 "nbformat_minor": 0
}

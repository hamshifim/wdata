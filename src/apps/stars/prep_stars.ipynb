{
 "cells": [
  {
   "cell_type": "markdown",
   "source": [
    "Stars app\n",
    "=\n",
    "\n",
    "An example app for ingesting spatial data into a format readable by the Unreal Engine application at git@github.com:hamshifim/unreal-data-visualization.git. Both this repository and the repository holding the Unreal are submodules of this super repo: git@github.com:hamshifim/data-wielder.git and it holds the compatible versions of both repositories. Make sure you checkout the commit pointed to by data-wielder submodules for version alignment.\n",
    "\n",
    "If it's your first time run the notebook cell by cell to while looking at the output directories; I would recommend using Sublime Text to view the directories intended for generated files.\n",
    "\n",
    "For we are using CSV to import larger datasets to Unreal and are not aware of usage of a format including schema (e.g. parquet) supported by unreal. The last cell in this notebook generates the structs for the Unreal Engine application. After you are done you should build the code and import the tables, in Unreal and run the application using the instructions in the Unreal submodule."
   ],
   "metadata": {
    "collapsed": false
   }
  },
  {
   "cell_type": "code",
   "execution_count": null,
   "outputs": [],
   "source": [
    "from pyspark.sql import SparkSession\n",
    "from pyspark.sql import functions as F\n",
    "from pyhocon import ConfigFactory as CF\n",
    "from pyhocon import HOCONConverter\n",
    "\n",
    "from pep_data.project import data_project_conf\n",
    "from wielder.spark.util import set_spark_env\n",
    "from wielder.unreal.util import to_unreal, UnrealTableType\n",
    "from wielder.wield.project import default_conf_root, configure_project_module\n",
    "from wielder.spark.util import columns_ranges\n",
    "from wielder.spark.spatial import estimate_df_boundaries\n",
    "from wielder.spark.util import color_by_range\n",
    "from wielder.unreal.struct_gen import *"
   ],
   "metadata": {
    "collapsed": false
   }
  },
  {
   "cell_type": "code",
   "execution_count": null,
   "outputs": [],
   "source": [
    "project_conf_dir = default_conf_root()\n",
    "app = 'stars'\n",
    "conf = data_project_conf(app=app)\n",
    "configure_project_module(conf, app)\n",
    "\n",
    "app_conf = conf[app]"
   ],
   "metadata": {
    "collapsed": false
   }
  },
  {
   "cell_type": "code",
   "execution_count": null,
   "outputs": [],
   "source": [
    "unreal_conf = app_conf.unreal_conf\n",
    "dest = unreal_conf.conf"
   ],
   "metadata": {
    "collapsed": false
   }
  },
  {
   "cell_type": "code",
   "execution_count": null,
   "outputs": [],
   "source": [
    "set_spark_env()\n",
    "spark = SparkSession.builder.config(\"spark.driver.memory\", \"15g\").appName(app).getOrCreate()"
   ],
   "metadata": {
    "collapsed": false
   }
  },
  {
   "cell_type": "code",
   "execution_count": null,
   "outputs": [],
   "source": [
    "src = app_conf.src.stars_raw\n",
    "dff = spark.read.csv(src, header=True)"
   ],
   "metadata": {
    "collapsed": false
   }
  },
  {
   "cell_type": "code",
   "execution_count": null,
   "outputs": [],
   "source": [
    "dff.show(5)"
   ],
   "metadata": {
    "collapsed": false
   }
  },
  {
   "cell_type": "code",
   "execution_count": null,
   "outputs": [],
   "source": [
    "def random_rgb():\n",
    "    import random\n",
    "    r = lambda: random.randint(0, 255)\n",
    "    return '#%02X%02X%02X' % (r(), r(), r())\n",
    "\n",
    "random_rgb_udf = F.udf(random_rgb)"
   ],
   "metadata": {
    "collapsed": false
   }
  },
  {
   "cell_type": "code",
   "execution_count": null,
   "outputs": [],
   "source": [
    "def random_normalized_num():\n",
    "    import random\n",
    "    return random.uniform(0.01, 0.1)\n",
    "\n",
    "random_normalized_num_udf = F.udf(random_normalized_num)"
   ],
   "metadata": {
    "collapsed": false
   }
  },
  {
   "cell_type": "code",
   "execution_count": null,
   "outputs": [],
   "source": [
    "# cols = ['Index'] + app_conf.unreal_conf.base_columns\n",
    "df = dff \\\n",
    "    .withColumn(\"x\", F.col(\"x\").cast(\"float\")) \\\n",
    "    .withColumn(\"y\", F.col(\"y\").cast(\"float\")) \\\n",
    "    .withColumn(\"z\", F.col(\"z\").cast(\"float\")) \\\n",
    "    .withColumn(\"type\", F.lit('stars')) \\\n",
    "    .withColumn(\"color\", random_rgb_udf()) \\\n",
    "    .withColumn(\"size\", random_normalized_num_udf()) \\\n",
    "    .withColumn(\"opacity\", random_normalized_num_udf())"
   ],
   "metadata": {
    "collapsed": false
   }
  },
  {
   "cell_type": "code",
   "execution_count": null,
   "outputs": [],
   "source": [
    "df.show(5)"
   ],
   "metadata": {
    "collapsed": false
   }
  },
  {
   "cell_type": "code",
   "execution_count": null,
   "outputs": [],
   "source": [
    "# df.printSchema()"
   ],
   "metadata": {
    "collapsed": false
   }
  },
  {
   "cell_type": "code",
   "execution_count": null,
   "outputs": [],
   "source": [
    "main_table = 'stars'\n",
    "table = 'metadata'"
   ],
   "metadata": {
    "collapsed": false
   }
  },
  {
   "cell_type": "code",
   "execution_count": null,
   "outputs": [],
   "source": [
    "unreal_conf.data_types[main_table].data_source"
   ],
   "metadata": {
    "collapsed": false
   }
  },
  {
   "cell_type": "code",
   "execution_count": null,
   "outputs": [],
   "source": [
    "dest = unreal_conf.data_types[main_table].data_source\n",
    "to_unreal(df=df, dest=dest)"
   ],
   "metadata": {
    "collapsed": false
   }
  },
  {
   "cell_type": "code",
   "execution_count": null,
   "outputs": [],
   "source": [
    "boundaries = estimate_df_boundaries(df)\n",
    "boundaries"
   ],
   "metadata": {
    "collapsed": false
   }
  },
  {
   "cell_type": "code",
   "execution_count": null,
   "outputs": [],
   "source": [
    "unreal_conf.views.galaxy['boundaries'] = CF.from_dict(boundaries)\n"
   ],
   "metadata": {
    "collapsed": false
   }
  },
  {
   "cell_type": "code",
   "execution_count": null,
   "outputs": [],
   "source": [
    "src = app_conf.src.stars_parameters\n",
    "_col = \"p_life\"\n",
    "params_df = spark.read.csv(src, header=True) \\\n",
    "    .withColumn('likelihood_of_life', F.col('likelihood_of_life').cast('float')) \\\n",
    "    .withColumn(_col, F.floor(F.col(\"likelihood_of_life\")))"
   ],
   "metadata": {
    "collapsed": false
   }
  },
  {
   "cell_type": "code",
   "execution_count": null,
   "outputs": [],
   "source": [
    "params_df.show(5)"
   ],
   "metadata": {
    "collapsed": false
   }
  },
  {
   "cell_type": "code",
   "execution_count": null,
   "outputs": [],
   "source": [
    "# params_df.printSchema()\n",
    "# params_df.columns"
   ],
   "metadata": {
    "collapsed": false
   }
  },
  {
   "cell_type": "code",
   "execution_count": null,
   "outputs": [],
   "source": [
    "dest1 = unreal_conf.data_types[main_table].tables[table]['data_source']\n",
    "dest1"
   ],
   "metadata": {
    "collapsed": false
   }
  },
  {
   "cell_type": "code",
   "execution_count": null,
   "outputs": [],
   "source": [
    "unreal_conf = to_unreal(params_df, dest1, unreal_conf, main_table, table, table_type=UnrealTableType.SECONDARY)"
   ],
   "metadata": {
    "collapsed": false
   }
  },
  {
   "cell_type": "code",
   "execution_count": null,
   "outputs": [],
   "source": [
    "# unreal_conf"
   ],
   "metadata": {
    "collapsed": false
   }
  },
  {
   "cell_type": "code",
   "execution_count": null,
   "outputs": [],
   "source": [
    "ranges = columns_ranges(params_df, [_col])\n",
    "_min = ranges[f'min_{_col}']\n",
    "_max = ranges[f'max_{_col}']\n",
    "\n",
    "color_codes = color_by_range(_min, _max, cold=True)\n",
    "\n",
    "unreal_conf.views.galaxy.color_maps[_col] = CF.from_dict(color_codes)\n",
    "color_codes"
   ],
   "metadata": {
    "collapsed": false
   }
  },
  {
   "cell_type": "code",
   "execution_count": null,
   "outputs": [],
   "source": [
    "unreal_conf_j = HOCONConverter.to_json(unreal_conf, indent=4)\n",
    "dest_j = unreal_conf.conf\n",
    "\n",
    "with open(dest_j, 'w') as file:\n",
    "    file.write(unreal_conf_j)"
   ],
   "metadata": {
    "collapsed": false
   }
  },
  {
   "cell_type": "code",
   "execution_count": null,
   "outputs": [],
   "source": [
    "uconf = conf.unreal\n",
    "solution_name = uconf.solution_name\n",
    "\n",
    "if uconf.del_structs:\n",
    "    delete_old_structs(solution_name, uconf.project_path)\n",
    "\n",
    "# Define the path to your config file, written to location above\n",
    "conf_path = uconf.conf_path\n",
    "output_dir = uconf.struct_path\n",
    "\n",
    "generate_structs(conf_path, output_dir)"
   ],
   "metadata": {
    "collapsed": false
   }
  }
 ],
 "metadata": {
  "kernelspec": {
   "display_name": "Python 3",
   "language": "python",
   "name": "python3"
  },
  "language_info": {
   "codemirror_mode": {
    "name": "ipython",
    "version": 2
   },
   "file_extension": ".py",
   "mimetype": "text/x-python",
   "name": "python",
   "nbconvert_exporter": "python",
   "pygments_lexer": "ipython2",
   "version": "2.7.6"
  }
 },
 "nbformat": 4,
 "nbformat_minor": 0
}

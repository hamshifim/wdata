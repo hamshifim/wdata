{
 "cells": [
  {
   "cell_type": "code",
   "execution_count": null,
   "id": "3cfbccbd",
   "metadata": {
    "pycharm": {
     "name": "#%%\n"
    }
   },
   "outputs": [],
   "source": [
    "# Bee Hive data https://drive.google.com/file/d/142IBcs6OyQiJxO7owPfkEBFbkrudnh0g/view?usp=sharing"
   ]
  },
  {
   "cell_type": "code",
   "execution_count": null,
   "id": "8fd97e9b",
   "metadata": {
    "pycharm": {
     "name": "#%%\n"
    }
   },
   "outputs": [],
   "source": [
    "APP = \"BeeHive\""
   ]
  },
  {
   "cell_type": "code",
   "execution_count": null,
   "id": "947b6a9f",
   "metadata": {
    "pycharm": {
     "name": "#%%\n"
    }
   },
   "outputs": [],
   "source": [
    "# Install a pip package in the current Jupyter kernel\n",
    "!{sys.executable} -m pip install -e '../../../Wielder/'\n",
    "!{sys.executable} -m pip install -e '../'"
   ]
  },
  {
   "cell_type": "code",
   "execution_count": null,
   "id": "aaa27979",
   "metadata": {
    "pycharm": {
     "name": "#%%\n"
    }
   },
   "outputs": [],
   "source": [
    "from pyspark.sql import SparkSession\n",
    "from pyspark.sql.types import StructType\n",
    "from pyspark.sql.functions import split, col\n",
    "\n",
    "from pep_data.project import quick_conf\n",
    "from pep_data.spark.util import field_to_struct\n",
    "\n",
    "%matplotlib notebook\n",
    "import matplotlib.pyplot as plt\n",
    "import matplotlib.ticker as mticker"
   ]
  },
  {
   "cell_type": "code",
   "execution_count": null,
   "id": "59c78f8a",
   "metadata": {
    "pycharm": {
     "name": "#%%\n"
    }
   },
   "outputs": [],
   "source": [
    "# Create Spark session\n",
    "spark = SparkSession.builder.appName(APP).getOrCreate()"
   ]
  },
  {
   "cell_type": "code",
   "execution_count": null,
   "outputs": [],
   "source": [
    "# Get app configuration from project.conf file\n",
    "conf = quick_conf()"
   ],
   "metadata": {
    "collapsed": false,
    "pycharm": {
     "name": "#%%\n"
    }
   }
  },
  {
   "cell_type": "code",
   "execution_count": null,
   "id": "7cb41516",
   "metadata": {
    "pycharm": {
     "name": "#%%\n"
    }
   },
   "outputs": [],
   "source": [
    "# Create schema for the data\n",
    "cols_name = conf[APP]['cols_name']\n",
    "cols_double = conf[APP]['cols_double']\n",
    "cols_integer = conf[APP]['cols_integer']\n",
    "\n",
    "# Create all the fields\n",
    "fields = [field_to_struct(header, doubles=cols_double, integers=cols_integer) for header in cols_name]\n",
    "\n",
    "# Create the schema from th e fields\n",
    "schema = StructType(fields)"
   ]
  },
  {
   "cell_type": "code",
   "execution_count": null,
   "id": "f60db88e",
   "metadata": {
    "pycharm": {
     "name": "#%%\n"
    }
   },
   "outputs": [],
   "source": [
    "# Read the data from the csv using the schema\n",
    "data_path = conf[APP]['data_path']\n",
    "df = spark.read.schema(schema).csv(data_path)\n",
    "\n",
    "df.show()"
   ]
  },
  {
   "cell_type": "code",
   "execution_count": null,
   "id": "3e7d5340",
   "metadata": {
    "pycharm": {
     "name": "#%%\n"
    }
   },
   "outputs": [],
   "source": [
    "# Remove unnecessary columns(the columns with the word remove in them)\n",
    "cols_to_keep = [x for x in df.columns if 'remove' not in x]\n",
    "df = df.select(*cols_to_keep)\n",
    "\n",
    "df.show()"
   ]
  },
  {
   "cell_type": "code",
   "execution_count": null,
   "id": "b856137a",
   "metadata": {
    "pycharm": {
     "name": "#%%\n"
    }
   },
   "outputs": [],
   "source": [
    "# Create Cycle column from the Bee ID colums(Bee value from Bee_ID)\n",
    "df_cleaned = df.withColumn('Cycle', split(col('Bee ID'), '_').getItem(0))\n",
    "\n",
    "df.show()"
   ]
  },
  {
   "cell_type": "code",
   "execution_count": null,
   "id": "668f4687",
   "metadata": {
    "pycharm": {
     "name": "#%%\n"
    }
   },
   "outputs": [],
   "source": [
    "# Convert from pyspark data frame to pandas data frame\n",
    "df_cleaned_pd = df_cleaned.toPandas()\n",
    "\n",
    "df_cleaned_pd"
   ]
  },
  {
   "cell_type": "code",
   "execution_count": null,
   "id": "d08b4bef",
   "metadata": {
    "pycharm": {
     "name": "#%%\n"
    }
   },
   "outputs": [],
   "source": [
    "# Create scatter plot with change in number of x ticks\n",
    "\n",
    "# Create plot figure and axes\n",
    "fig, ax = plt.subplots()\n",
    "\n",
    "# Ticks format\n",
    "label_format = '{:,.0f}'\n",
    "\n",
    "num_of_ticks = 25\n",
    "\n",
    "#Creates dots on the graph\n",
    "plt.scatter(df_cleaned_pd['Cycle'], df_cleaned_pd['DaughtersEfficiencyScore'], s = 5)\n",
    "\n",
    "# Set x axis name\n",
    "plt.xlabel(f'Cycle {min(df_cleaned_pd[\"Cycle\"])} - {max(df_cleaned_pd[\"Cycle\"])}')\n",
    "\n",
    "# Set y axis name\n",
    "plt.ylabel('DaughtersEfficiencyScore')\n",
    "\n",
    "# fixing xticks with FixedLocator but also using MaxNLocator to avoid cramped x-labels\n",
    "a = ax.xaxis.set_major_locator(mticker.MaxNLocator(num_of_ticks))\n",
    "ticks_loc = ax.get_xticks().tolist()\n",
    "c = ax.xaxis.set_major_locator(mticker.FixedLocator(ticks_loc))\n",
    "d = ax.set_xticklabels([label_format.format(x) for x in ticks_loc])\n",
    "\n",
    "plt.show()"
   ]
  },
  {
   "cell_type": "code",
   "execution_count": null,
   "id": "b3afd8d9",
   "metadata": {
    "scrolled": true,
    "pycharm": {
     "name": "#%%\n"
    }
   },
   "outputs": [],
   "source": [
    "# Create scatter plot with horizontal x ticks\n",
    "\n",
    "# Create plot figure and axes\n",
    "fig, ax = plt.subplots()\n",
    "\n",
    "# Creates dots on the graph\n",
    "ax.scatter(df_cleaned_pd['Cycle'], df_cleaned_pd['DaughtersEfficiencyScore'], s=5)\n",
    "\n",
    "# Get all cycles (x ticks for the graph)\n",
    "x_ticks = sorted([int(x) for x in list(set(df_cleaned_pd['Cycle']))])\n",
    "\n",
    "# Add grid to the graph\n",
    "plt.grid()\n",
    "\n",
    "# Change mragins of the grpah\n",
    "plt.gca().margins(x=0.01)\n",
    "\n",
    "# Rotating X-axis labels\n",
    "ax.set_xticks(x_ticks)\n",
    "ax.set_xticklabels(ax.get_xticks(), rotation = 90)\n",
    "\n",
    "# Change the fontsize of x ticks\n",
    "plt.xticks(fontsize=9)\n",
    "\n",
    "# Set x axis name\n",
    "plt.xlabel('Cycle')\n",
    "\n",
    "# Set y axis name\n",
    "plt.ylabel('DaughtersEfficiencyScore')\n",
    "\n",
    "plt.show()"
   ]
  },
  {
   "cell_type": "code",
   "execution_count": null,
   "id": "7d861044",
   "metadata": {
    "pycharm": {
     "name": "#%%\n"
    }
   },
   "outputs": [],
   "source": [
    "# Create scatter plot with diffrent space between x ticks\n",
    "\n",
    "# Create plot figure and axes\n",
    "fig, ax = plt.subplots()\n",
    "\n",
    "# Creates dots on the graph\n",
    "ax.scatter(df_cleaned_pd['Cycle'], df_cleaned_pd['DaughtersEfficiencyScore'], s=5)\n",
    "\n",
    "# Get all cycles (x ticks for the graph)\n",
    "x_ticks = sorted([int(x) for x in list(set(df_cleaned_pd['Cycle']))])\n",
    "\n",
    "# Load x ticks to graph\n",
    "plt.xticks(x_ticks)\n",
    "\n",
    "N = max(x_ticks)+1\n",
    "\n",
    "# Change mragins of the grpah\n",
    "plt.gca().margins(x=0.01)\n",
    "\n",
    "# Calculate the space between x ticks\n",
    "plt.gcf().canvas.draw()\n",
    "tl = plt.gca().get_xticklabels()\n",
    "maxsize = max([t.get_window_extent().width for t in tl])\n",
    "m = 0.2 # inch margin\n",
    "s = maxsize/plt.gcf().dpi*N+2*m\n",
    "margin = m/plt.gcf().get_size_inches()[0]\n",
    "\n",
    "# Change the fontsize of x ticks\n",
    "plt.xticks(fontsize=8)\n",
    "\n",
    "# Adjust graph according to new x ticks\n",
    "plt.gcf().subplots_adjust(left=margin+0.01, right=1.-margin+0.01)\n",
    "plt.gcf().set_size_inches(s, plt.gcf().get_size_inches()[1])\n",
    "\n",
    "# Set x axis name\n",
    "plt.xlabel('Cycle')\n",
    "\n",
    "# Set y axis name\n",
    "plt.ylabel('DaughtersEfficiencyScore')\n",
    "\n",
    "plt.show()"
   ]
  }
 ],
 "metadata": {
  "kernelspec": {
   "display_name": "Python 3 (ipykernel)",
   "language": "python",
   "name": "python3"
  },
  "language_info": {
   "codemirror_mode": {
    "name": "ipython",
    "version": 3
   },
   "file_extension": ".py",
   "mimetype": "text/x-python",
   "name": "python",
   "nbconvert_exporter": "python",
   "pygments_lexer": "ipython3",
   "version": "3.10.6"
  }
 },
 "nbformat": 4,
 "nbformat_minor": 5
}
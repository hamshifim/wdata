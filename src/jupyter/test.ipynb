{
 "cells": [
  {
   "cell_type": "code",
   "execution_count": null,
   "id": "0e3ad529",
   "metadata": {
    "pycharm": {
     "name": "#%%\n"
    }
   },
   "outputs": [],
   "source": [
    "! mvn clean install -f '../../../Pipelines/datalake/CassandraPipe/pom.xml'"
   ]
  },
  {
   "cell_type": "code",
   "execution_count": null,
   "id": "f7121cfc",
   "metadata": {
    "pycharm": {
     "name": "#%%\n"
    }
   },
   "outputs": [],
   "source": [
    "! '../../package_py.bash'"
   ]
  },
  {
   "cell_type": "code",
   "execution_count": null,
   "id": "98771295",
   "metadata": {
    "pycharm": {
     "name": "#%%\n"
    }
   },
   "outputs": [],
   "source": [
    "# https://stackoverflow.com/questions/35946868/adding-custom-jars-to-pyspark-in-jupyter-notebook\n",
    "import os\n",
    "os.environ['PYSPARK_SUBMIT_ARGS'] ='--jars /Users/daniel/dev/duds/Pipelines/datalake/CassandraPipe/target/CassandraPipe-1.0.0-SNAPSHOT.jar'"
   ]
  },
  {
   "cell_type": "code",
   "execution_count": null,
   "id": "5e42338b",
   "metadata": {
    "pycharm": {
     "name": "#%%\n"
    }
   },
   "outputs": [],
   "source": [
    "! AddJar '/Users/daniel/dev/duds/Pipelines/datalake/CassandraPipe/target/CassandraPipe-1.0.0-SNAPSHOT-jar-with-dependencies.jar'"
   ]
  },
  {
   "cell_type": "code",
   "execution_count": null,
   "id": "5ab10827",
   "metadata": {
    "pycharm": {
     "name": "#%%\n"
    }
   },
   "outputs": [],
   "source": [
    "# #https://docs.cloudera.com/cdsw/1.9.2/spark-configuration/topics/cdsw-adding-remote-or-local-jars.html\n",
    "%AddJar \"/Users/daniel/dev/duds/Pipelines/datalake/CassandraPipe/target/CassandraPipe-1.0.0-SNAPSHOT-jar-with-dependencies.jar\""
   ]
  },
  {
   "cell_type": "code",
   "execution_count": null,
   "id": "99ab3886",
   "metadata": {
    "pycharm": {
     "name": "#%%\n"
    }
   },
   "outputs": [],
   "source": [
    "!jupyter kernelspec list"
   ]
  },
  {
   "cell_type": "code",
   "execution_count": null,
   "id": "911acb11",
   "metadata": {
    "pycharm": {
     "name": "#%%\n"
    }
   },
   "outputs": [],
   "source": [
    "!cat /usr/local/share/jupyter/kernels/spylon-kernel/kernel.json"
   ]
  }
 ],
 "metadata": {
  "kernelspec": {
   "display_name": "Python 3 (ipykernel)",
   "language": "python",
   "name": "python3"
  },
  "language_info": {
   "codemirror_mode": {
    "name": "ipython",
    "version": 3
   },
   "file_extension": ".py",
   "mimetype": "text/x-python",
   "name": "python",
   "nbconvert_exporter": "python",
   "pygments_lexer": "ipython3",
   "version": "3.10.6"
  }
 },
 "nbformat": 4,
 "nbformat_minor": 5
}
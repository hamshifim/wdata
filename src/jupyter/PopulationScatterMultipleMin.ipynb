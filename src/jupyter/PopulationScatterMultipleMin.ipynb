{
 "cells": [
  {
   "cell_type": "code",
   "execution_count": null,
   "outputs": [],
   "source": [
    "# Bee Hive data https://drive.google.com/file/d/142IBcs6OyQiJxO7owPfkEBFbkrudnh0g/view?usp=sharing"
   ],
   "metadata": {
    "collapsed": false,
    "pycharm": {
     "name": "#%%\n"
    }
   }
  },
  {
   "cell_type": "code",
   "execution_count": null,
   "outputs": [],
   "source": [
    "APP = \"BeeHive\""
   ],
   "metadata": {
    "collapsed": false,
    "pycharm": {
     "name": "#%%\n"
    }
   }
  },
  {
   "cell_type": "code",
   "execution_count": null,
   "outputs": [],
   "source": [
    "# Install a pip package in the current Jupyter kernel\n",
    "!{sys.executable} -m pip install -e '../../../Wielder/'\n",
    "!{sys.executable} -m pip install -e '../'"
   ],
   "metadata": {
    "collapsed": false,
    "pycharm": {
     "name": "#%%\n"
    }
   }
  },
  {
   "cell_type": "code",
   "execution_count": null,
   "outputs": [],
   "source": [
    "from pyspark.sql import SparkSession, Row\n",
    "from pyspark.sql.types import StructType\n",
    "from pyspark.sql.functions import col, rank\n",
    "from pyspark.sql.window import Window\n",
    "\n",
    "from pep_data.project import quick_conf\n",
    "from pep_data.spark.util import field_to_struct\n",
    "\n",
    "%matplotlib notebook\n",
    "import matplotlib.pyplot as plt\n",
    "\n",
    "from mpl_toolkits import mplot3d\n",
    "from mpl_toolkits.mplot3d import proj3d\n",
    "\n",
    "\n",
    "import numpy as np"
   ],
   "metadata": {
    "collapsed": false,
    "pycharm": {
     "name": "#%%\n"
    }
   }
  },
  {
   "cell_type": "code",
   "execution_count": null,
   "outputs": [],
   "source": [
    "# Create Spark session\n",
    "spark = SparkSession.builder.appName(APP).getOrCreate()"
   ],
   "metadata": {
    "collapsed": false,
    "pycharm": {
     "name": "#%%\n"
    }
   }
  },
  {
   "cell_type": "code",
   "execution_count": null,
   "outputs": [],
   "source": [
    "# Get app configuration from project.conf file\n",
    "conf = quick_conf()"
   ],
   "metadata": {
    "collapsed": false,
    "pycharm": {
     "name": "#%%\n"
    }
   }
  },
  {
   "cell_type": "code",
   "execution_count": null,
   "id": "b9dde727",
   "metadata": {
    "pycharm": {
     "name": "#%%\n"
    }
   },
   "outputs": [],
   "source": [
    "# Create schema for the data\n",
    "cols_name = conf[APP]['cols_name']\n",
    "cols_double = conf[APP]['cols_double']\n",
    "cols_integer = conf[APP]['cols_integer']\n",
    "\n",
    "# Create all the fields\n",
    "fields = [field_to_struct(header, doubles=cols_double, integers=cols_integer) for header in cols_name]\n",
    "\n",
    "# Create the schema from th e fields\n",
    "schema = StructType(fields)"
   ]
  },
  {
   "cell_type": "code",
   "execution_count": null,
   "id": "b700dcdf",
   "metadata": {
    "pycharm": {
     "name": "#%%\n"
    }
   },
   "outputs": [],
   "source": [
    "# Read the data from the csv using the schema\n",
    "data_path = conf[APP]['data_path']\n",
    "df = spark.read.schema(schema).csv(data_path)\n",
    "\n",
    "df.show()"
   ]
  },
  {
   "cell_type": "code",
   "execution_count": null,
   "id": "5baa96b5",
   "metadata": {
    "pycharm": {
     "name": "#%%\n"
    }
   },
   "outputs": [],
   "source": [
    "# Remove all columns with the string remove in them\n",
    "cols_to_keep = [x for x in df.columns if 'remove' not in x]\n",
    "df = df.select(*cols_to_keep)\n",
    "\n",
    "df.show()"
   ]
  },
  {
   "cell_type": "code",
   "execution_count": null,
   "id": "491f93f8",
   "metadata": {
    "pycharm": {
     "name": "#%%\n"
    }
   },
   "outputs": [],
   "source": [
    "#Sort by DaughtersEfficiencyScore in Father SIZE Group and take first num_rows rows for each father size\n",
    "num_rows = 5\n",
    "window = Window.partitionBy(col('Father SIZE')).orderBy(col('DaughtersEfficiencyScore'))\n",
    "df_cleaned = df.select('*', rank().over(window).alias('rank')).filter(col('rank') <= num_rows)\n",
    "\n",
    "df_cleaned.show()"
   ]
  },
  {
   "cell_type": "code",
   "execution_count": null,
   "id": "5689f78b",
   "metadata": {
    "pycharm": {
     "name": "#%%\n"
    }
   },
   "outputs": [],
   "source": [
    "# Convert from pyspark data frame to pandas data frame\n",
    "df_cleaned_pd = df_cleaned.toPandas().sort_values(by=['Father SIZE'], ascending=False)\n",
    "df_cleaned_pd"
   ]
  },
  {
   "cell_type": "code",
   "execution_count": null,
   "id": "7bae6311",
   "metadata": {
    "pycharm": {
     "name": "#%%\n"
    }
   },
   "outputs": [],
   "source": [
    "# Create scatter plot based on bees location with text annotation over data point\n",
    "\n",
    "# Colors for bee groups (groups of Father SIZE)\n",
    "colors = ('blue', 'orange', 'green', 'red', 'purple', 'brown', 'pink', 'gray', 'olive', 'cyan', 'yellow')\n",
    "\n",
    "# Number of rows in the data frame\n",
    "length = len(df_cleaned_pd.index)\n",
    "\n",
    "# Create plot figure\n",
    "fig = plt.figure()\n",
    "\n",
    "# Create 3D axes\n",
    "ax = plt.axes(projection='3d')\n",
    "\n",
    "for i in range (length):\n",
    "    \n",
    "    if not (i%num_rows):\n",
    "        # Create dot on graph with color and label\n",
    "        ax.scatter3D(df_cleaned_pd['X'][i], df_cleaned_pd['Y'][i], df_cleaned_pd['Z'][i],\n",
    "                     c = colors[i//num_rows], label = f\"Father Size = {df_cleaned_pd['Father SIZE'][i]}\")\n",
    "        \n",
    "    else:\n",
    "        # Create dot on graph with color\n",
    "        ax.scatter3D(df_cleaned_pd['X'][i], df_cleaned_pd['Y'][i], df_cleaned_pd['Z'][i],\n",
    "                     c = colors[i//num_rows])\n",
    "\n",
    "\n",
    "    # Add text(Bee_ID) for dot\n",
    "    ax.text(df_cleaned_pd['X'][i], df_cleaned_pd['Y'][i], df_cleaned_pd['Z'][i],\n",
    "            '%s' % (df_cleaned_pd['Bee ID'][i]), size=10)\n",
    "\n",
    "\n",
    "# Add Plot Title\n",
    "ax.set_title('X Y Z of all father sizes')\n",
    "\n",
    "# Set x axis name\n",
    "ax.set_xlabel('X')\n",
    "\n",
    "# Set y axis name\n",
    "ax.set_ylabel('Y')\n",
    "\n",
    "#Set z axis name\n",
    "ax.set_zlabel('Z')\n",
    "\n",
    "# Create legend(descriptive labels for each plotted data series)\n",
    "fig.legend(loc=\"upper left\")\n",
    "\n",
    "# Show plot, not necessary but used to remove unwanted output\n",
    "plt.show()"
   ]
  },
  {
   "cell_type": "code",
   "execution_count": null,
   "id": "0783bb8a",
   "metadata": {
    "pycharm": {
     "name": "#%%\n"
    }
   },
   "outputs": [],
   "source": [
    "# Convert from pyspark data frame to numpy array\n",
    "df_cleaned_np = np.array(df_cleaned.select(\"X\", \"Y\", \"Z\").collect())\n",
    "\n",
    "df_cleaned_np"
   ]
  },
  {
   "cell_type": "code",
   "execution_count": null,
   "id": "6d2c7543",
   "metadata": {
    "pycharm": {
     "name": "#%%\n"
    }
   },
   "outputs": [],
   "source": [
    "# Create scatter plot based on bees location with text annotation over data point closest to mouse\n",
    "\n",
    "def visualize3DData (df_cleaned_np):\n",
    "    \"\"\"Visualize data in 3d plot with popover next to mouse position.\n",
    "\n",
    "    Args:\n",
    "        X (np.array) - array of points, of shape (numPoints, 3)\n",
    "    Returns:\n",
    "        None\n",
    "    \"\"\"\n",
    "    fig = plt.figure()\n",
    "    ax = plt.axes(projection='3d')\n",
    "    for i in range (length):\n",
    "        ax.scatter3D(df_cleaned_pd['X'][i], df_cleaned_pd['Y'][i], df_cleaned_pd['Z'][i],\n",
    "            c = colors[i//num_rows], label = f\"Father Size = {df_cleaned_pd['Father SIZE'][i]}\", depthshade = False, picker = True)\n",
    "\n",
    "\n",
    "\n",
    "    def distance(point, event):\n",
    "        \"\"\"Return distance between mouse position and given data point\n",
    "\n",
    "        Args:\n",
    "            point (np.array): np.array of shape (3,), with x,y,z in data coords\n",
    "            event (MouseEvent): mouse event (which contains mouse position in .x and .xdata)\n",
    "        Returns:\n",
    "            distance (np.float64): distance (in screen coords) between mouse pos and data point\n",
    "        \"\"\"\n",
    "        assert point.shape == (3,), \"distance: point.shape is wrong: %s, must be (3,)\" % point.shape\n",
    "\n",
    "        # Project 3d data space to 2d data space\n",
    "        x2, y2, _ = proj3d.proj_transform(point[0], point[1], point[2], plt.gca().get_proj())\n",
    "        # Convert 2d data space to 2d screen space\n",
    "        x3, y3 = ax.transData.transform((x2, y2))\n",
    "\n",
    "        return np.sqrt ((x3 - event.x)**2 + (y3 - event.y)**2)\n",
    "\n",
    "\n",
    "    def calcClosestDatapoint(df_cleaned_np, event):\n",
    "        \"\"\"\"Calculate which data point is closest to the mouse position.\n",
    "\n",
    "        Args:\n",
    "            X (np.array) - array of points, of shape (numPoints, 3)\n",
    "            event (MouseEvent) - mouse event (containing mouse position)\n",
    "        Returns:\n",
    "            smallestIndex (int) - the index (into the array of points X) of the element closest to the mouse position\n",
    "        \"\"\"\n",
    "        distances = [distance (df_cleaned_np[i, 0:3], event) for i in range(df_cleaned_np.shape[0])]\n",
    "        return np.argmin(distances)\n",
    "\n",
    "\n",
    "    def annotatePlot(df_cleaned_np, index):\n",
    "        \"\"\"Create popover label in 3d chart\n",
    "\n",
    "        Args:\n",
    "            X (np.array) - array of points, of shape (numPoints, 3)\n",
    "            index (int) - index (into points array X) of item which should be printed\n",
    "        Returns:\n",
    "            None\n",
    "        \"\"\"\n",
    "        # If we have previously displayed another label, remove it first\n",
    "        if hasattr(annotatePlot, 'label'):\n",
    "            annotatePlot.label.remove()\n",
    "        # Get data point from array of points X, at position index\n",
    "        x2, y2, _ = proj3d.proj_transform(df_cleaned_np[index, 0], df_cleaned_np[index, 1], df_cleaned_np[index, 2], ax.get_proj())\n",
    "        annotatePlot.label = plt.annotate( \"Bee ID = %s\" % df_cleaned_pd['Bee ID'][index],\n",
    "            xy = (x2, y2), xytext = (-20, 20), textcoords = 'offset points', ha = 'right', va = 'bottom',\n",
    "            bbox = dict(boxstyle = 'round,pad=0.5', fc = 'yellow', alpha = 0.5),\n",
    "            arrowprops = dict(arrowstyle = '->', connectionstyle = 'arc3,rad=0'))\n",
    "        fig.canvas.draw()\n",
    "\n",
    "\n",
    "    def onMouseMotion(event):\n",
    "        \"\"\"Event that is triggered when mouse is moved. Shows text annotation over data point closest to mouse.\"\"\"\n",
    "        closestIndex = calcClosestDatapoint(df_cleaned_np, event)\n",
    "        annotatePlot (df_cleaned_np, closestIndex)\n",
    "\n",
    "    fig.canvas.mpl_connect('motion_notify_event', onMouseMotion)  # on mouse motion\n",
    "    plt.show()\n",
    "\n",
    "\n"
   ]
  },
  {
   "cell_type": "code",
   "execution_count": null,
   "id": "67e5a8d7",
   "metadata": {
    "pycharm": {
     "name": "#%%\n"
    }
   },
   "outputs": [],
   "source": [
    "visualize3DData (df_cleaned_np)"
   ]
  }
 ],
 "metadata": {
  "kernelspec": {
   "display_name": "Python 3 (ipykernel)",
   "language": "python",
   "name": "python3"
  },
  "language_info": {
   "codemirror_mode": {
    "name": "ipython",
    "version": 3
   },
   "file_extension": ".py",
   "mimetype": "text/x-python",
   "name": "python",
   "nbconvert_exporter": "python",
   "pygments_lexer": "ipython3",
   "version": "3.10.6"
  }
 },
 "nbformat": 4,
 "nbformat_minor": 5
}